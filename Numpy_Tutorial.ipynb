{
 "cells": [
  {
   "cell_type": "markdown",
   "id": "7a19a192-f43f-407a-9c68-d1cd2809577c",
   "metadata": {},
   "source": [
    "*Note :  ctrl+ shift +k for Table of contents* "
   ]
  },
  {
   "cell_type": "markdown",
   "id": "33655ddd-b6d0-4945-8b14-b591a6520af0",
   "metadata": {},
   "source": [
    "# Numpy Introduction \n",
    "## What is Numpy? \n",
    "NumPy is a Python library used for working with arrays.\r\n",
    "\r\n",
    "It also has functions for working in domain of linear algebra, fourier transform, and matrices.\r\n",
    "\r\n",
    "NumPy was created in 2005 by Travis Oliphant. It is an open source project and you can use it freely.\r\n",
    "\r\n",
    "NumPy stands for Numerical Python.\r\n",
    "\r\n"
   ]
  },
  {
   "cell_type": "markdown",
   "id": "3771e532-a442-47bb-962c-0bb9b65b2296",
   "metadata": {},
   "source": [
    "## Why Use NumPy?\n",
    "\n",
    "In Python we have lists that serve the purpose of arrays, but they are slow to process.\n",
    "\r\n",
    "NumPy aims to provide an array object that is up to 50x faster than traditional Python list.\r\n",
    "\r\n",
    "The array object in NumPy is called ndarray, it provides a lot of supporting functions that make working with ndarray very esy.\r\n",
    "\r\n",
    "Arrays are very frequently used in data science, where speed and resources are very important."
   ]
  },
  {
   "cell_type": "markdown",
   "id": "206fb05a-d3ef-4bdd-ad77-b47dfb1318b5",
   "metadata": {},
   "source": [
    "## Why is NumPy Faster Than Lists? \n",
    "\n",
    "NumPy arrays are stored at one continuous place in memory unlike lists, so processes can access and manipulate them very efficiently.\n",
    "\n",
    "This behavior is called locality of reference in computer science.\n",
    "\n",
    "This is the main reason why NumPy is faster than lists. Also it is optimized to work with latest CPU architectures."
   ]
  },
  {
   "cell_type": "code",
   "execution_count": 4,
   "id": "d6bce4d9-9074-4e66-9860-51d35fcbc733",
   "metadata": {},
   "outputs": [],
   "source": [
    "import numpy as np"
   ]
  },
  {
   "cell_type": "code",
   "execution_count": 6,
   "id": "7aa98193-4810-4cdd-83ae-c79c483600c6",
   "metadata": {},
   "outputs": [
    {
     "name": "stdout",
     "output_type": "stream",
     "text": [
      "[1 2 3 4]\n",
      "[4 5 6 7]\n",
      "<class 'numpy.ndarray'>\n",
      "<class 'numpy.ndarray'>\n"
     ]
    }
   ],
   "source": [
    "arr = np.array([1,2,3,4]) # array created using list \n",
    "arr2 = np.array((4,5,6,7)) # array created using tuple \n",
    "print(arr)\n",
    "print(arr2)\n",
    "print(type(arr))\n",
    "print(type(arr2))"
   ]
  },
  {
   "cell_type": "markdown",
   "id": "25aab938-0a8a-4519-82ed-bd77061df1d6",
   "metadata": {},
   "source": [
    "# Checking numpy version"
   ]
  },
  {
   "cell_type": "code",
   "execution_count": 10,
   "id": "5e16bebd-317a-4bc3-96a5-89c40fe65a51",
   "metadata": {},
   "outputs": [
    {
     "data": {
      "text/plain": [
       "'1.26.4'"
      ]
     },
     "execution_count": 10,
     "metadata": {},
     "output_type": "execute_result"
    }
   ],
   "source": [
    "np.__version__"
   ]
  },
  {
   "cell_type": "markdown",
   "id": "42d80be1-1ce5-4d34-baaf-4e2648d9609b",
   "metadata": {},
   "source": [
    "# Dimensions in array"
   ]
  },
  {
   "cell_type": "markdown",
   "id": "d476ee05-22b1-4c47-b945-4542d52d84d2",
   "metadata": {},
   "source": [
    "*A dimension in arrays is one level of array depth (nested arrays).* "
   ]
  },
  {
   "cell_type": "code",
   "execution_count": 5,
   "id": "6c4133e6-2a09-417e-8533-4f3931308fa9",
   "metadata": {},
   "outputs": [
    {
     "name": "stdout",
     "output_type": "stream",
     "text": [
      "42\n"
     ]
    }
   ],
   "source": [
    "# 0-D array \n",
    "arr = np.array(42)\n",
    "print(arr)"
   ]
  },
  {
   "cell_type": "code",
   "execution_count": 7,
   "id": "fa947ecb-2e87-4bbc-a96c-169be4906b22",
   "metadata": {},
   "outputs": [
    {
     "name": "stdout",
     "output_type": "stream",
     "text": [
      "[ 1 23 56 13]\n"
     ]
    }
   ],
   "source": [
    "# 1-D array \n",
    "arr = np.array([1,23,56,13])\n",
    "print(arr)"
   ]
  },
  {
   "cell_type": "code",
   "execution_count": 9,
   "id": "99859f90-614e-4c2b-aa68-1011a80b2b5e",
   "metadata": {},
   "outputs": [
    {
     "name": "stdout",
     "output_type": "stream",
     "text": [
      "[[1 2 3]\n",
      " [9 2 3]]\n"
     ]
    }
   ],
   "source": [
    "# 2-D array \n",
    "arr = np.array([[1,2,3],[9,2,3]])\n",
    "print(arr)"
   ]
  },
  {
   "cell_type": "code",
   "execution_count": 19,
   "id": "69190a9f-d233-4a58-a230-bb8533c2e9ac",
   "metadata": {},
   "outputs": [
    {
     "name": "stdout",
     "output_type": "stream",
     "text": [
      "[[[1 2 3]\n",
      "  [2 3 4]\n",
      "  [3 5 6]]]\n"
     ]
    }
   ],
   "source": [
    "# 3-D array \n",
    "arr =np.array([[[1,2,3], [2,3,4], [3,5,6]]])\n",
    "print(arr) "
   ]
  },
  {
   "cell_type": "markdown",
   "id": "82fb3e00-0ec6-4726-a618-9873d773bc17",
   "metadata": {},
   "source": [
    "# Checking the number of dimensions "
   ]
  },
  {
   "cell_type": "code",
   "execution_count": 32,
   "id": "2460ec22-af44-4d38-953c-883dacd1ea32",
   "metadata": {},
   "outputs": [
    {
     "name": "stdout",
     "output_type": "stream",
     "text": [
      "0\n",
      "1\n",
      "2\n",
      "3\n",
      "Size of arrays :\n",
      "1\n",
      "5\n",
      "6\n",
      "12\n"
     ]
    }
   ],
   "source": [
    "import numpy as np\n",
    "\n",
    "a = np.array(42)\n",
    "b = np.array([1, 2, 3, 4, 5])\n",
    "c = np.array([[1, 2, 3], [4, 5, 6]])\n",
    "d = np.array([[[1, 2, 3], [4, 5, 6]], [[1, 2, 3], [4, 5, 6]]])\n",
    "\n",
    "print(a.ndim)\n",
    "print(b.ndim)\n",
    "print(c.ndim)\n",
    "print(d.ndim)\n",
    "\n",
    "\n",
    "# .size gives number of elements in an array \n",
    "\n",
    "print('Size of arrays :') \n",
    "print(a.size)\n",
    "print(b.size)\n",
    "print(c.size)\n",
    "print(d.size)\n"
   ]
  },
  {
   "cell_type": "markdown",
   "id": "2e1c55c9-39d9-4f59-b431-360c6f2b296d",
   "metadata": {},
   "source": [
    "# Higher Dimensional Arrays\n",
    "An array can have any number of dimensions.\n",
    "When the array is created, you can define the number of dimensions by using the ndmin argument."
   ]
  },
  {
   "cell_type": "code",
   "execution_count": 23,
   "id": "470413bf-5427-4a45-9af8-9a532d3f93e5",
   "metadata": {},
   "outputs": [
    {
     "name": "stdout",
     "output_type": "stream",
     "text": [
      "[[[[[1 2 3]]]]]\n"
     ]
    }
   ],
   "source": [
    "arr = np.array ([1,2,3],ndmin =5)\n",
    "print(arr)"
   ]
  },
  {
   "cell_type": "markdown",
   "id": "3a029e14-47fc-4430-bc0e-d79ab7af8061",
   "metadata": {},
   "source": [
    "# Array Indexing in Numpy"
   ]
  },
  {
   "cell_type": "code",
   "execution_count": 1,
   "id": "5763d1d9-812c-4a95-89bc-3093fcbcfc4d",
   "metadata": {},
   "outputs": [
    {
     "name": "stdout",
     "output_type": "stream",
     "text": [
      "1\n"
     ]
    }
   ],
   "source": [
    "import numpy as np\n",
    "\n",
    "arr = np.array([1, 2, 3, 4])\n",
    "\n",
    "print(arr[0])"
   ]
  },
  {
   "cell_type": "markdown",
   "id": "499d0583-ac91-419c-8551-611ed370536c",
   "metadata": {},
   "source": [
    "# Get Shape"
   ]
  },
  {
   "cell_type": "code",
   "execution_count": 3,
   "id": "385d51f9-f901-4bc9-b109-4105f5cd62dc",
   "metadata": {},
   "outputs": [
    {
     "data": {
      "text/plain": [
       "(4,)"
      ]
     },
     "execution_count": 3,
     "metadata": {},
     "output_type": "execute_result"
    }
   ],
   "source": [
    "# shape(r,c)\n",
    "arr.shape"
   ]
  },
  {
   "cell_type": "markdown",
   "id": "2659ef1e-1d11-4e12-87e7-6c030209e850",
   "metadata": {},
   "source": [
    "# Get Datatype"
   ]
  },
  {
   "cell_type": "code",
   "execution_count": 9,
   "id": "959a88a5-420a-459d-a6e6-04e3121e982f",
   "metadata": {},
   "outputs": [
    {
     "name": "stdout",
     "output_type": "stream",
     "text": [
      "int32\n",
      "float64\n"
     ]
    }
   ],
   "source": [
    "a = np.array([1,2,3,4])\n",
    "b = np.array([1.1,2.2,3.3])\n",
    "print(a.dtype)\n",
    "print(b.dtype)"
   ]
  },
  {
   "cell_type": "markdown",
   "id": "0197af0b-197f-4aa8-aa74-5e4a1b4edf2a",
   "metadata": {},
   "source": [
    "# Get Size "
   ]
  },
  {
   "cell_type": "code",
   "execution_count": 15,
   "id": "dbbcd90d-4daf-4b1a-88ac-dce49bb54caf",
   "metadata": {},
   "outputs": [
    {
     "name": "stdout",
     "output_type": "stream",
     "text": [
      "4\n"
     ]
    }
   ],
   "source": [
    "arr2 = np.array([10,20,30,30])\n",
    "print(arr2.itemsize)"
   ]
  },
  {
   "cell_type": "markdown",
   "id": "15d0cd2b-1332-41ae-a58b-bddf1af38d45",
   "metadata": {},
   "source": [
    "NOTE: itemsize() function Returns size of each element in bytes present in array"
   ]
  },
  {
   "cell_type": "markdown",
   "id": "f52ecf7d-c045-45a0-9026-9204b71b4428",
   "metadata": {},
   "source": [
    "# Get total Size"
   ]
  },
  {
   "cell_type": "code",
   "execution_count": 17,
   "id": "e8c90bdc-99b1-423d-bae5-57d8d00e7b02",
   "metadata": {},
   "outputs": [
    {
     "data": {
      "text/plain": [
       "5"
      ]
     },
     "execution_count": 17,
     "metadata": {},
     "output_type": "execute_result"
    }
   ],
   "source": [
    "arr = np.array([10,20,30,40,50])\n",
    "arr.size"
   ]
  },
  {
   "cell_type": "markdown",
   "id": "8b90e136-0803-4303-b83a-5a25c22e5788",
   "metadata": {},
   "source": [
    "# Accessing/Changing specific elements, rows, columns, etc"
   ]
  },
  {
   "cell_type": "code",
   "execution_count": 19,
   "id": "89921c34-2592-4305-a2f4-40ce35e588c0",
   "metadata": {},
   "outputs": [
    {
     "name": "stdout",
     "output_type": "stream",
     "text": [
      "[[ 1  2  3  4  5  6  7]\n",
      " [ 8  9 10 11 12 13 14]]\n"
     ]
    }
   ],
   "source": [
    "a = np.array([[1,2,3,4,5,6,7],[8,9,10,11,12,13,14]])\n",
    "print(a)"
   ]
  },
  {
   "cell_type": "markdown",
   "id": "265d4dfd-717c-4466-af45-d4bfe33a96a2",
   "metadata": {},
   "source": [
    "##  Get specific element [r,c]"
   ]
  },
  {
   "cell_type": "code",
   "execution_count": 20,
   "id": "1d1a7a18-2e6a-452b-8f65-13501025581d",
   "metadata": {},
   "outputs": [
    {
     "data": {
      "text/plain": [
       "13"
      ]
     },
     "execution_count": 20,
     "metadata": {},
     "output_type": "execute_result"
    }
   ],
   "source": [
    "a[1,5]"
   ]
  },
  {
   "cell_type": "markdown",
   "id": "c410a7ed-7cfe-404f-b0c1-0d973beaeca0",
   "metadata": {},
   "source": [
    "## Get specific row "
   ]
  },
  {
   "cell_type": "code",
   "execution_count": 22,
   "id": "ed89352e-4e48-4f68-9ab6-7d38fcbecc07",
   "metadata": {},
   "outputs": [
    {
     "data": {
      "text/plain": [
       "array([1, 2, 3, 4, 5, 6, 7])"
      ]
     },
     "execution_count": 22,
     "metadata": {},
     "output_type": "execute_result"
    }
   ],
   "source": [
    "a[0,:]"
   ]
  },
  {
   "cell_type": "markdown",
   "id": "808e8143-0273-45df-8053-c0cee4e4f106",
   "metadata": {},
   "source": [
    "## Get specific columns"
   ]
  },
  {
   "cell_type": "code",
   "execution_count": 24,
   "id": "10066a7f-27e8-4044-b404-1dd11a23ead4",
   "metadata": {},
   "outputs": [
    {
     "data": {
      "text/plain": [
       "array([ 3, 10])"
      ]
     },
     "execution_count": 24,
     "metadata": {},
     "output_type": "execute_result"
    }
   ],
   "source": [
    "a[:,2]"
   ]
  },
  {
   "cell_type": "markdown",
   "id": "021d75a4-f0a0-463d-9c9f-735c101d3feb",
   "metadata": {},
   "source": [
    "## Getting a little more fancy [start_index : end_index : step_size]"
   ]
  },
  {
   "cell_type": "code",
   "execution_count": 26,
   "id": "4eb2b80f-ceba-4f62-ba15-94c44f0b462c",
   "metadata": {},
   "outputs": [
    {
     "data": {
      "text/plain": [
       "array([2, 4, 6])"
      ]
     },
     "execution_count": 26,
     "metadata": {},
     "output_type": "execute_result"
    }
   ],
   "source": [
    "a[0, 1:-1:2]"
   ]
  },
  {
   "cell_type": "code",
   "execution_count": 27,
   "id": "0976d823-fd19-4ca7-bce0-f53040af1f63",
   "metadata": {},
   "outputs": [
    {
     "name": "stdout",
     "output_type": "stream",
     "text": [
      "[[ 1  2  1  4  5  6  7]\n",
      " [ 8  9  2 11 12 20 14]]\n"
     ]
    }
   ],
   "source": [
    "a[1,5] = 20\n",
    "a[:,2] = [1,2]\n",
    "print(a)"
   ]
  },
  {
   "cell_type": "markdown",
   "id": "e3f033c6-821e-4aa7-9b41-08cd742a3064",
   "metadata": {},
   "source": [
    "# 3-D Example"
   ]
  },
  {
   "cell_type": "code",
   "execution_count": 30,
   "id": "d2eb307a-1015-4be4-89b1-7c5bf0123021",
   "metadata": {},
   "outputs": [
    {
     "name": "stdout",
     "output_type": "stream",
     "text": [
      "[[[1 2]\n",
      "  [3 4]\n",
      "  [5 6]\n",
      "  [7 8]]]\n"
     ]
    }
   ],
   "source": [
    "b = np.array([[[1,2],[3,4],[5,6],[7,8]]])\n",
    "print(b)"
   ]
  },
  {
   "cell_type": "markdown",
   "id": "b8a4034d-189b-4ae9-b0aa-811776db9ae2",
   "metadata": {},
   "source": [
    "## Get specific element (work outside in)"
   ]
  },
  {
   "cell_type": "code",
   "execution_count": 31,
   "id": "b3f4365a-2f04-497a-94ae-69feac8a66ef",
   "metadata": {},
   "outputs": [
    {
     "data": {
      "text/plain": [
       "4"
      ]
     },
     "execution_count": 31,
     "metadata": {},
     "output_type": "execute_result"
    }
   ],
   "source": [
    "b[0,1,1]"
   ]
  },
  {
   "cell_type": "code",
   "execution_count": 34,
   "id": "31e22558-732e-4c10-9184-55dbca877fe2",
   "metadata": {},
   "outputs": [],
   "source": [
    "b[:, 1, :] = [[9, 9]]\n"
   ]
  },
  {
   "cell_type": "code",
   "execution_count": 35,
   "id": "d2bafbc2-92a6-4b93-8410-ff73c6241ba0",
   "metadata": {},
   "outputs": [
    {
     "data": {
      "text/plain": [
       "array([[[1, 2],\n",
       "        [9, 9],\n",
       "        [5, 6],\n",
       "        [7, 8]]])"
      ]
     },
     "execution_count": 35,
     "metadata": {},
     "output_type": "execute_result"
    }
   ],
   "source": [
    "b"
   ]
  },
  {
   "cell_type": "markdown",
   "id": "327596b9-9ac9-4d2a-b2db-101387c12f00",
   "metadata": {},
   "source": [
    "# Initializing Different Types of Arrays\n"
   ]
  },
  {
   "cell_type": "markdown",
   "id": "7109a7f5-a745-44ba-8340-754bc6b3606e",
   "metadata": {},
   "source": [
    "## All 0s matrix"
   ]
  },
  {
   "cell_type": "code",
   "execution_count": 37,
   "id": "584d5da8-de7d-41a0-b674-ecf6016559f0",
   "metadata": {},
   "outputs": [
    {
     "data": {
      "text/plain": [
       "array([[0., 0., 0.],\n",
       "       [0., 0., 0.]])"
      ]
     },
     "execution_count": 37,
     "metadata": {},
     "output_type": "execute_result"
    }
   ],
   "source": [
    "np.zeros((2,3))"
   ]
  },
  {
   "cell_type": "markdown",
   "id": "d459787b-7045-4fbf-9d4b-2fc495dcba0c",
   "metadata": {},
   "source": [
    "## All 1s matrix "
   ]
  },
  {
   "cell_type": "code",
   "execution_count": 39,
   "id": "2306a6c5-7d67-4805-82c7-cf883cd50f5c",
   "metadata": {},
   "outputs": [
    {
     "data": {
      "text/plain": [
       "array([[[1, 1],\n",
       "        [1, 1]],\n",
       "\n",
       "       [[1, 1],\n",
       "        [1, 1]],\n",
       "\n",
       "       [[1, 1],\n",
       "        [1, 1]],\n",
       "\n",
       "       [[1, 1],\n",
       "        [1, 1]]])"
      ]
     },
     "execution_count": 39,
     "metadata": {},
     "output_type": "execute_result"
    }
   ],
   "source": [
    "np.ones((4,2,2),dtype='int32')"
   ]
  },
  {
   "cell_type": "markdown",
   "id": "dcf7fc55-5f88-4c5f-889a-018e1c55b6df",
   "metadata": {},
   "source": [
    "# Any other number"
   ]
  },
  {
   "cell_type": "code",
   "execution_count": 71,
   "id": "3bdeda11-2d56-42b1-840e-73234a39b8fa",
   "metadata": {},
   "outputs": [
    {
     "data": {
      "text/plain": [
       "array([[99, 99],\n",
       "       [99, 99]])"
      ]
     },
     "execution_count": 71,
     "metadata": {},
     "output_type": "execute_result"
    }
   ],
   "source": [
    "np.full((2,2), 99)"
   ]
  },
  {
   "cell_type": "markdown",
   "id": "6913a1ed-ba1a-470c-9fd9-e7969882c506",
   "metadata": {},
   "source": [
    "# Any other number (full_like)"
   ]
  },
  {
   "cell_type": "code",
   "execution_count": 72,
   "id": "8e9f4196-5219-4296-ab83-1c82dedbec5d",
   "metadata": {},
   "outputs": [
    {
     "data": {
      "text/plain": [
       "array([[4., 4., 4.],\n",
       "       [4., 4., 4.]])"
      ]
     },
     "execution_count": 72,
     "metadata": {},
     "output_type": "execute_result"
    }
   ],
   "source": [
    "np.full_like(a, 4)"
   ]
  },
  {
   "cell_type": "markdown",
   "id": "57b8f250-218c-4024-a527-e4031d799a28",
   "metadata": {},
   "source": [
    "# Random decimal numbers"
   ]
  },
  {
   "cell_type": "code",
   "execution_count": 73,
   "id": "10446de6-54f3-4260-acbb-687690283846",
   "metadata": {},
   "outputs": [
    {
     "data": {
      "text/plain": [
       "array([[0.60840847, 0.20892639],\n",
       "       [0.6627749 , 0.66158869],\n",
       "       [0.12907081, 0.80559881],\n",
       "       [0.97859571, 0.47357269]])"
      ]
     },
     "execution_count": 73,
     "metadata": {},
     "output_type": "execute_result"
    }
   ],
   "source": [
    "np.random.rand(4,2)"
   ]
  },
  {
   "cell_type": "markdown",
   "id": "33da580c-61e4-4bbe-8a5f-ba8b9e580adb",
   "metadata": {},
   "source": [
    "# Random Integer values"
   ]
  },
  {
   "cell_type": "code",
   "execution_count": 74,
   "id": "be0f0391-8382-4507-9824-280f1b764a23",
   "metadata": {},
   "outputs": [
    {
     "data": {
      "text/plain": [
       "array([[ 7,  7,  4],\n",
       "       [ 3,  5,  2],\n",
       "       [ 0,  3, -4]])"
      ]
     },
     "execution_count": 74,
     "metadata": {},
     "output_type": "execute_result"
    }
   ],
   "source": [
    "np.random.randint(-4,8, size=(3,3))"
   ]
  },
  {
   "cell_type": "markdown",
   "id": "7aeb0fd9-44fb-4483-b976-2e196f797d17",
   "metadata": {},
   "source": [
    "# The identity matrix"
   ]
  },
  {
   "cell_type": "code",
   "execution_count": null,
   "id": "f70e5eca-f364-4521-b0f3-a7aab9708e57",
   "metadata": {},
   "outputs": [],
   "source": [
    "np.identity(5)"
   ]
  },
  {
   "cell_type": "markdown",
   "id": "69901d9a-f986-4d94-8813-e3a343489c3b",
   "metadata": {},
   "source": [
    "# Repeat an array"
   ]
  },
  {
   "cell_type": "code",
   "execution_count": null,
   "id": "2b4ae0e2-cd89-466e-97b9-684ec2dd3a33",
   "metadata": {},
   "outputs": [],
   "source": [
    "arr = np.array([[1,2,3]])\n",
    "r1 = np.repeat(arr,3, axis=0)\n",
    "print(r1)"
   ]
  },
  {
   "cell_type": "code",
   "execution_count": 46,
   "id": "c171553f-1581-42c2-bd82-48b6e3a7e47d",
   "metadata": {},
   "outputs": [
    {
     "name": "stdout",
     "output_type": "stream",
     "text": [
      "[[1. 1. 1. 1. 1.]\n",
      " [1. 1. 1. 1. 1.]\n",
      " [1. 1. 1. 1. 1.]\n",
      " [1. 1. 1. 1. 1.]\n",
      " [1. 1. 1. 1. 1.]]\n",
      "[[0. 0. 0.]\n",
      " [0. 9. 0.]\n",
      " [0. 0. 0.]]\n",
      "[[1. 1. 1. 1. 1.]\n",
      " [1. 0. 0. 0. 1.]\n",
      " [1. 0. 9. 0. 1.]\n",
      " [1. 0. 0. 0. 1.]\n",
      " [1. 1. 1. 1. 1.]]\n"
     ]
    }
   ],
   "source": [
    "output = np.ones((5,5))\n",
    "print(output)\n",
    "z = np.zeros((3,3))\n",
    "z[1,1] = 9\n",
    "print(z)\n",
    "output[1:-1,1:-1] = z\n",
    "print(output)"
   ]
  },
  {
   "cell_type": "code",
   "execution_count": 48,
   "id": "a1861c5f-0177-4211-aa77-de15eff75631",
   "metadata": {},
   "outputs": [
    {
     "name": "stdout",
     "output_type": "stream",
     "text": [
      "[1 2 3]\n",
      "[100   2   3]\n"
     ]
    }
   ],
   "source": [
    "a = np.array([1,2,3])\n",
    "b = a.copy()\n",
    "b[0] = 100\n",
    "print(a)\n",
    "print(b)"
   ]
  },
  {
   "cell_type": "markdown",
   "id": "c1092f8a-e781-4d64-9e30-01f97e06f802",
   "metadata": {},
   "source": [
    "# Mathematics"
   ]
  },
  {
   "cell_type": "code",
   "execution_count": 49,
   "id": "2b5ba0f0-669f-4384-92a4-308faa56e78b",
   "metadata": {},
   "outputs": [
    {
     "name": "stdout",
     "output_type": "stream",
     "text": [
      "[1 2 3 4]\n"
     ]
    }
   ],
   "source": [
    "a = np.array([1,2,3,4])\n",
    "print(a)"
   ]
  },
  {
   "cell_type": "code",
   "execution_count": 50,
   "id": "35b803af-6fa4-4b90-900f-241d678b56b2",
   "metadata": {},
   "outputs": [
    {
     "data": {
      "text/plain": [
       "array([3, 4, 5, 6])"
      ]
     },
     "execution_count": 50,
     "metadata": {},
     "output_type": "execute_result"
    }
   ],
   "source": [
    "a + 2"
   ]
  },
  {
   "cell_type": "code",
   "execution_count": 51,
   "id": "deaaaf8a-77a8-472d-9aab-359ab2523160",
   "metadata": {},
   "outputs": [
    {
     "data": {
      "text/plain": [
       "array([-1,  0,  1,  2])"
      ]
     },
     "execution_count": 51,
     "metadata": {},
     "output_type": "execute_result"
    }
   ],
   "source": [
    "a-2"
   ]
  },
  {
   "cell_type": "code",
   "execution_count": 52,
   "id": "f1903d0f-1b99-472f-afd0-1f4096d4cff0",
   "metadata": {},
   "outputs": [
    {
     "data": {
      "text/plain": [
       "array([2, 4, 6, 8])"
      ]
     },
     "execution_count": 52,
     "metadata": {},
     "output_type": "execute_result"
    }
   ],
   "source": [
    "a*2"
   ]
  },
  {
   "cell_type": "code",
   "execution_count": 53,
   "id": "5034be44-a51d-45c3-824a-f2af95907a9c",
   "metadata": {},
   "outputs": [
    {
     "data": {
      "text/plain": [
       "array([0.5, 1. , 1.5, 2. ])"
      ]
     },
     "execution_count": 53,
     "metadata": {},
     "output_type": "execute_result"
    }
   ],
   "source": [
    "a/2"
   ]
  },
  {
   "cell_type": "code",
   "execution_count": 54,
   "id": "f1992b0f-1935-487e-b465-c35c9ed9aebe",
   "metadata": {},
   "outputs": [
    {
     "data": {
      "text/plain": [
       "array([2, 2, 4, 4])"
      ]
     },
     "execution_count": 54,
     "metadata": {},
     "output_type": "execute_result"
    }
   ],
   "source": [
    "b = np.array([1,0,1,0])\n",
    "a+b"
   ]
  },
  {
   "cell_type": "code",
   "execution_count": 55,
   "id": "375f221a-fc7e-4b07-82cf-53a4edc4fdeb",
   "metadata": {},
   "outputs": [
    {
     "data": {
      "text/plain": [
       "array([ 1,  4,  9, 16])"
      ]
     },
     "execution_count": 55,
     "metadata": {},
     "output_type": "execute_result"
    }
   ],
   "source": [
    "a**2"
   ]
  },
  {
   "cell_type": "code",
   "execution_count": 56,
   "id": "33d6bd7b-5375-4d74-ab71-23d5aa19983d",
   "metadata": {
    "scrolled": true
   },
   "outputs": [
    {
     "data": {
      "text/plain": [
       "array([ 0.54030231, -0.41614684, -0.9899925 , -0.65364362])"
      ]
     },
     "execution_count": 56,
     "metadata": {},
     "output_type": "execute_result"
    }
   ],
   "source": [
    "# Take the sin \n",
    "np.cos(a)"
   ]
  },
  {
   "cell_type": "markdown",
   "id": "c72cb3ad-c5bd-4480-bb9c-9567ab6fb63a",
   "metadata": {},
   "source": [
    "### For a lot more [https://docs.scipy.org/doc/numpy/reference/routines.math.html]"
   ]
  },
  {
   "cell_type": "markdown",
   "id": "91a302a7-0f9d-4819-b87e-084b0bbecc13",
   "metadata": {},
   "source": [
    "# Linear Algebra"
   ]
  },
  {
   "cell_type": "code",
   "execution_count": 59,
   "id": "8952d701-bb19-4f43-9f83-cfc9577c6b5c",
   "metadata": {},
   "outputs": [
    {
     "name": "stdout",
     "output_type": "stream",
     "text": [
      "[[1. 1. 1.]\n",
      " [1. 1. 1.]]\n",
      "[[2 2]\n",
      " [2 2]\n",
      " [2 2]]\n"
     ]
    },
    {
     "data": {
      "text/plain": [
       "array([[6., 6.],\n",
       "       [6., 6.]])"
      ]
     },
     "execution_count": 59,
     "metadata": {},
     "output_type": "execute_result"
    }
   ],
   "source": [
    "a = np.ones((2,3))\n",
    "print(a)\n",
    "b = np.full((3,2), 2)\n",
    "print(b)\n",
    "np.matmul(a,b) # matrix multiplication"
   ]
  },
  {
   "cell_type": "code",
   "execution_count": 60,
   "id": "e44b53b5-2879-46df-b56d-4e002ef67a0c",
   "metadata": {},
   "outputs": [
    {
     "data": {
      "text/plain": [
       "1.0"
      ]
     },
     "execution_count": 60,
     "metadata": {},
     "output_type": "execute_result"
    }
   ],
   "source": [
    "# Find the determinant\n",
    "c = np.identity(3)\n",
    "np.linalg.det(c)"
   ]
  },
  {
   "cell_type": "markdown",
   "id": "1f28ed07-646f-4754-aaa2-a0cd72fd4101",
   "metadata": {},
   "source": [
    "### Reference docs (https://docs.scipy.org/doc/numpy/reference/routines.linalg.html)"
   ]
  },
  {
   "cell_type": "markdown",
   "id": "fe73750c-a17b-439b-af6d-b566562a06e4",
   "metadata": {},
   "source": [
    "# Statistics"
   ]
  },
  {
   "cell_type": "code",
   "execution_count": 61,
   "id": "0e975374-644a-4e2b-985a-8a831a3970b5",
   "metadata": {},
   "outputs": [
    {
     "data": {
      "text/plain": [
       "array([[1, 2, 3],\n",
       "       [4, 5, 6]])"
      ]
     },
     "execution_count": 61,
     "metadata": {},
     "output_type": "execute_result"
    }
   ],
   "source": [
    "stats = np.array([[1,2,3],[4,5,6]])\n",
    "stats"
   ]
  },
  {
   "cell_type": "code",
   "execution_count": 62,
   "id": "44149630-4ea5-4181-848a-6ad60709913a",
   "metadata": {},
   "outputs": [
    {
     "data": {
      "text/plain": [
       "1"
      ]
     },
     "execution_count": 62,
     "metadata": {},
     "output_type": "execute_result"
    }
   ],
   "source": [
    "np.min(stats)"
   ]
  },
  {
   "cell_type": "code",
   "execution_count": 63,
   "id": "b7559058-bec6-4a0f-97bd-479f81e4ca40",
   "metadata": {},
   "outputs": [
    {
     "data": {
      "text/plain": [
       "array([3, 6])"
      ]
     },
     "execution_count": 63,
     "metadata": {},
     "output_type": "execute_result"
    }
   ],
   "source": [
    "np.max(stats, axis=1)"
   ]
  },
  {
   "cell_type": "code",
   "execution_count": 64,
   "id": "79c430a7-d2a9-434a-b4fc-8d9ec44c7414",
   "metadata": {},
   "outputs": [
    {
     "data": {
      "text/plain": [
       "array([5, 7, 9])"
      ]
     },
     "execution_count": 64,
     "metadata": {},
     "output_type": "execute_result"
    }
   ],
   "source": [
    "np.sum(stats, axis=0)"
   ]
  },
  {
   "cell_type": "markdown",
   "id": "68485ec5-a147-4f73-a045-4cf7e85ff1a9",
   "metadata": {},
   "source": [
    "# Reorganizing Arrays"
   ]
  },
  {
   "cell_type": "code",
   "execution_count": 67,
   "id": "257c12d2-aae9-459d-a962-1686d1bec2e6",
   "metadata": {},
   "outputs": [
    {
     "name": "stdout",
     "output_type": "stream",
     "text": [
      "[[1 2 3 4]\n",
      " [5 6 7 8]]\n",
      "[[1 2]\n",
      " [3 4]\n",
      " [5 6]\n",
      " [7 8]]\n"
     ]
    }
   ],
   "source": [
    "before = np.array([[1,2,3,4],[5,6,7,8]])\n",
    "print(before)\n",
    "\n",
    "after = before.reshape((4, 2))\n",
    "print(after)\n"
   ]
  },
  {
   "cell_type": "code",
   "execution_count": 68,
   "id": "d27b17ef-c5f8-45fb-8e5e-284f39ac43f9",
   "metadata": {},
   "outputs": [
    {
     "data": {
      "text/plain": [
       "array([[1, 2, 3, 4],\n",
       "       [5, 6, 7, 8],\n",
       "       [1, 2, 3, 4],\n",
       "       [5, 6, 7, 8]])"
      ]
     },
     "execution_count": 68,
     "metadata": {},
     "output_type": "execute_result"
    }
   ],
   "source": [
    "# Vertically stacking vectors\n",
    "v1 = np.array([1,2,3,4])\n",
    "v2 = np.array([5,6,7,8])\n",
    "np.vstack([v1,v2,v1,v2])"
   ]
  },
  {
   "cell_type": "code",
   "execution_count": 69,
   "id": "2b5124d8-698d-44fb-ae54-10a8a68678bd",
   "metadata": {},
   "outputs": [
    {
     "data": {
      "text/plain": [
       "array([[1., 1., 1., 1., 0., 0.],\n",
       "       [1., 1., 1., 1., 0., 0.]])"
      ]
     },
     "execution_count": 69,
     "metadata": {},
     "output_type": "execute_result"
    }
   ],
   "source": [
    "# Horizontal stack\n",
    "h1 = np.ones((2,4))\n",
    "h2 = np.zeros((2,2))\n",
    "np.hstack((h1,h2))"
   ]
  },
  {
   "cell_type": "markdown",
   "id": "f45ba6e0-07b0-4e0c-a5b1-c785deb6b434",
   "metadata": {},
   "source": [
    "## Load Data from File"
   ]
  },
  {
   "cell_type": "code",
   "execution_count": null,
   "id": "31722dbe-dfd6-4012-8370-d11c165de5ab",
   "metadata": {},
   "outputs": [],
   "source": [
    "filedata = np.genfromtxt('data.txt', delimiter=',')\n",
    "filedata = filedata.astype('int32')\n",
    "print(filedata)"
   ]
  },
  {
   "cell_type": "markdown",
   "id": "bbe85321-1856-4f38-865f-c2ec91234b59",
   "metadata": {},
   "source": [
    "## Boolean Masking and Advanced Indexing"
   ]
  },
  {
   "cell_type": "code",
   "execution_count": null,
   "id": "ef0000bd-7127-4fae-b430-6d2adf719410",
   "metadata": {},
   "outputs": [],
   "source": [
    "(~((filedata > 50) & (filedata < 100)))"
   ]
  },
  {
   "cell_type": "markdown",
   "id": "59b94b53-a83a-4310-a630-453b327fe643",
   "metadata": {},
   "source": [
    "# Creating arrays from Python's sequence types"
   ]
  },
  {
   "cell_type": "code",
   "execution_count": 75,
   "id": "12259d02-7c30-4c16-8a8e-1138a046341d",
   "metadata": {},
   "outputs": [
    {
     "name": "stdout",
     "output_type": "stream",
     "text": [
      "<class 'list'>\n",
      "<class 'tuple'>\n",
      "<class 'set'>\n"
     ]
    }
   ],
   "source": [
    "squares = [x**2 for x in range(10)] # python list\n",
    "cubes = tuple(x**3 for x in range(10)) # python tuple\n",
    "evens = {x for x in range(10) if x%2 == 0} # python set\n",
    "print(type(squares))\n",
    "print(type(cubes))\n",
    "print(type(evens))"
   ]
  },
  {
   "cell_type": "code",
   "execution_count": 77,
   "id": "f86708a2-b0a0-4a7a-b6f5-ad3a0d2ba590",
   "metadata": {},
   "outputs": [
    {
     "name": "stdout",
     "output_type": "stream",
     "text": [
      "<class 'numpy.ndarray'>\n"
     ]
    }
   ],
   "source": [
    "a = np.array(squares)\n",
    "b = np.array(cubes)\n",
    "c = np.array(evens)\n",
    "if type(a) == type(b) == type(c):\n",
    "    print(type(a))"
   ]
  },
  {
   "cell_type": "code",
   "execution_count": 78,
   "id": "5dc5c477-4ca8-4476-9a46-b774838fd01c",
   "metadata": {},
   "outputs": [
    {
     "name": "stdout",
     "output_type": "stream",
     "text": [
      "2\n",
      "3\n"
     ]
    }
   ],
   "source": [
    "seq2 = [[x, x**2, x**3] for x in range(10)]\n",
    "seq3 = [[[x for x in range(3)], [y for y in range(3, 6)]] for z in range(10)]\n",
    "a = np.array(seq2) # create array from nested lists of depth 2\n",
    "b = np.array(seq3) # create array from nested lists of depth 3\n",
    "print(a.ndim)\n",
    "print(b.ndim)"
   ]
  },
  {
   "cell_type": "code",
   "execution_count": 79,
   "id": "7fc13da5-cb51-48e5-b7af-84697ac1f1e2",
   "metadata": {},
   "outputs": [
    {
     "data": {
      "text/plain": [
       "array([1.+0.j, 3.+0.j, 5.+0.j, 7.+0.j, 9.+0.j])"
      ]
     },
     "execution_count": 79,
     "metadata": {},
     "output_type": "execute_result"
    }
   ],
   "source": [
    "odds = list(i for i in range(10) if i%2 != 0)\n",
    "numpy_odds = np.array(odds, dtype=complex) # declare data type during instantiation\n",
    "numpy_odds"
   ]
  },
  {
   "cell_type": "code",
   "execution_count": 80,
   "id": "273b2a86-d51d-4b67-bea6-f0d3e5d8a234",
   "metadata": {},
   "outputs": [
    {
     "name": "stdout",
     "output_type": "stream",
     "text": [
      "[[0 0 0]\n",
      " [0 0 0]\n",
      " [0 0 0]] int32\n",
      "[[1. 1.]\n",
      " [1. 1.]] float64\n",
      "[[1. 0. 0.]\n",
      " [0. 1. 0.]\n",
      " [0. 0. 1.]] float64\n"
     ]
    }
   ],
   "source": [
    "zeros = np.zeros((3, 3), dtype=np.int32) # create a 3x3 array of 0's\n",
    "ones = np.ones((2, 2), dtype=np.float64) # create a 2x2 array of 1's\n",
    "empty = np.empty((3, 3))\n",
    "print(zeros, zeros.dtype.name)\n",
    "print(ones, ones.dtype.name)\n",
    "print(empty, empty.dtype.name)"
   ]
  },
  {
   "cell_type": "code",
   "execution_count": 81,
   "id": "3fef4412-b8b6-4694-86e1-a1e07493c619",
   "metadata": {},
   "outputs": [
    {
     "data": {
      "text/plain": [
       "array([ 5, 10, 15, 20, 25])"
      ]
     },
     "execution_count": 81,
     "metadata": {},
     "output_type": "execute_result"
    }
   ],
   "source": [
    "a = np.arange(5, 30, 5) # create array from range [5, 30) with step of 5\n",
    "a"
   ]
  },
  {
   "cell_type": "code",
   "execution_count": 82,
   "id": "a486b4c7-5194-4f89-9062-979c66d413be",
   "metadata": {},
   "outputs": [
    {
     "data": {
      "text/plain": [
       "array([0.        , 0.01010101, 0.02020202, 0.03030303, 0.04040404,\n",
       "       0.05050505, 0.06060606, 0.07070707, 0.08080808, 0.09090909,\n",
       "       0.1010101 , 0.11111111, 0.12121212, 0.13131313, 0.14141414,\n",
       "       0.15151515, 0.16161616, 0.17171717, 0.18181818, 0.19191919,\n",
       "       0.2020202 , 0.21212121, 0.22222222, 0.23232323, 0.24242424,\n",
       "       0.25252525, 0.26262626, 0.27272727, 0.28282828, 0.29292929,\n",
       "       0.3030303 , 0.31313131, 0.32323232, 0.33333333, 0.34343434,\n",
       "       0.35353535, 0.36363636, 0.37373737, 0.38383838, 0.39393939,\n",
       "       0.4040404 , 0.41414141, 0.42424242, 0.43434343, 0.44444444,\n",
       "       0.45454545, 0.46464646, 0.47474747, 0.48484848, 0.49494949,\n",
       "       0.50505051, 0.51515152, 0.52525253, 0.53535354, 0.54545455,\n",
       "       0.55555556, 0.56565657, 0.57575758, 0.58585859, 0.5959596 ,\n",
       "       0.60606061, 0.61616162, 0.62626263, 0.63636364, 0.64646465,\n",
       "       0.65656566, 0.66666667, 0.67676768, 0.68686869, 0.6969697 ,\n",
       "       0.70707071, 0.71717172, 0.72727273, 0.73737374, 0.74747475,\n",
       "       0.75757576, 0.76767677, 0.77777778, 0.78787879, 0.7979798 ,\n",
       "       0.80808081, 0.81818182, 0.82828283, 0.83838384, 0.84848485,\n",
       "       0.85858586, 0.86868687, 0.87878788, 0.88888889, 0.8989899 ,\n",
       "       0.90909091, 0.91919192, 0.92929293, 0.93939394, 0.94949495,\n",
       "       0.95959596, 0.96969697, 0.97979798, 0.98989899, 1.        ])"
      ]
     },
     "execution_count": 82,
     "metadata": {},
     "output_type": "execute_result"
    }
   ],
   "source": [
    "b = np.linspace(0, 1, 100) # create array of 100 values between 0 and 1\n",
    "b"
   ]
  },
  {
   "cell_type": "code",
   "execution_count": 85,
   "id": "6f561c23-3147-413e-b8e8-f358c464c593",
   "metadata": {},
   "outputs": [
    {
     "data": {
      "text/plain": [
       "array([ 0.00000000e+00,  6.42787610e-01,  9.84807753e-01,  8.66025404e-01,\n",
       "        3.42020143e-01, -3.42020143e-01, -8.66025404e-01, -9.84807753e-01,\n",
       "       -6.42787610e-01, -2.44929360e-16])"
      ]
     },
     "execution_count": 85,
     "metadata": {},
     "output_type": "execute_result"
    }
   ],
   "source": [
    "from numpy import pi\n",
    "c = np.linspace(0, 2*pi, 10)# useful for evaluating trigonometric function\n",
    "f = np.sin(c)\n",
    "f"
   ]
  },
  {
   "cell_type": "code",
   "execution_count": 87,
   "id": "722acec8-498a-40d9-9b21-28ade4386272",
   "metadata": {},
   "outputs": [
    {
     "data": {
      "text/plain": [
       "array([[0, 1, 2],\n",
       "       [2, 3, 4],\n",
       "       [4, 5, 6]])"
      ]
     },
     "execution_count": 87,
     "metadata": {},
     "output_type": "execute_result"
    }
   ],
   "source": [
    "# creating an array from a function\n",
    "def f(row_num, col_num):\n",
    "    return 2*row_num + col_num\n",
    "F = np.fromfunction(f, (3, 3), dtype=int)\n",
    "F"
   ]
  },
  {
   "cell_type": "markdown",
   "id": "226eb4b1-0706-4a05-94ff-9ca08c404b41",
   "metadata": {},
   "source": [
    "# Printing arrays"
   ]
  },
  {
   "cell_type": "code",
   "execution_count": 88,
   "id": "746e1de5-1334-41bd-95c0-9853a1bef486",
   "metadata": {},
   "outputs": [
    {
     "name": "stdout",
     "output_type": "stream",
     "text": [
      "[ 0  1  2  3  4  5  6  7  8  9 10 11 12 13 14]\t[1x15]\n",
      "\n",
      "[[ 0  1  2  3  4]\n",
      " [ 5  6  7  8  9]\n",
      " [10 11 12 13 14]]\t[3x5]\n",
      "\n",
      "[[[ 0  1  2  3]\n",
      "  [ 4  5  6  7]\n",
      "  [ 8  9 10 11]]\n",
      "\n",
      " [[12 13 14 15]\n",
      "  [16 17 18 19]\n",
      "  [20 21 22 23]]]\t[2x3x4]"
     ]
    }
   ],
   "source": [
    "dim1 = np.arange(15) # Create 1 1x15 matrix; n=1\n",
    "dim2 = np.arange(15).reshape(3, 5) # Create 1 3x5 matrix; n=2\n",
    "dim3 = np.arange(24).reshape(2, 3, 4) # Create 2 3x4 matrices; n=3\n",
    "print(dim1, end='\\t[1x15]\\n\\n')\n",
    "print(dim2, end='\\t[3x5]\\n\\n')\n",
    "print(dim3, end='\\t[2x3x4]')"
   ]
  },
  {
   "cell_type": "code",
   "execution_count": 89,
   "id": "49a76c6f-adaf-4d8c-9094-9ff00e9fe8f6",
   "metadata": {},
   "outputs": [
    {
     "name": "stdout",
     "output_type": "stream",
     "text": [
      "[[   0    1    2 ...   97   98   99]\n",
      " [ 100  101  102 ...  197  198  199]\n",
      " [ 200  201  202 ...  297  298  299]\n",
      " ...\n",
      " [9700 9701 9702 ... 9797 9798 9799]\n",
      " [9800 9801 9802 ... 9897 9898 9899]\n",
      " [9900 9901 9902 ... 9997 9998 9999]]\n"
     ]
    }
   ],
   "source": [
    "very_large = np.arange(10000).reshape(100, 100)\n",
    "print(very_large) # printing a very large array"
   ]
  },
  {
   "cell_type": "markdown",
   "id": "9494f1c4-7e8e-423a-a481-5163f7076d9b",
   "metadata": {},
   "source": [
    "## Common NumPy array operations\n",
    "- Arithmetic operators on arrays apply elementwise.\n",
    "- A new array is created and filled with the result."
   ]
  },
  {
   "cell_type": "code",
   "execution_count": 90,
   "id": "72cb93be-8598-417f-857b-1febff696181",
   "metadata": {},
   "outputs": [
    {
     "name": "stdout",
     "output_type": "stream",
     "text": [
      "[ 1  2  3  4  5  6  7  8  9 10]\n"
     ]
    }
   ],
   "source": [
    "a = np.arange(10)\n",
    "b = np.array([2 for x in range(10)])\n",
    "c = np.ones(10, dtype=int)\n",
    "result = a + b - c # add 2 and subtract 1 from each element of a\n",
    "print(result)"
   ]
  },
  {
   "cell_type": "code",
   "execution_count": 91,
   "id": "46e1622a-e206-42e9-a257-9a5f21c866ca",
   "metadata": {},
   "outputs": [
    {
     "data": {
      "text/plain": [
       "array([  1,   4,   9,  16,  25,  36,  49,  64,  81, 100])"
      ]
     },
     "execution_count": 91,
     "metadata": {},
     "output_type": "execute_result"
    }
   ],
   "source": [
    "result **= 2 # square each element of result\n",
    "result"
   ]
  },
  {
   "cell_type": "code",
   "execution_count": 92,
   "id": "6db9e9d5-771d-4fac-8408-e19373be0638",
   "metadata": {},
   "outputs": [
    {
     "data": {
      "text/plain": [
       "array([ True,  True,  True, False, False, False, False, False, False,\n",
       "       False])"
      ]
     },
     "execution_count": 92,
     "metadata": {},
     "output_type": "execute_result"
    }
   ],
   "source": [
    "result < 10"
   ]
  },
  {
   "cell_type": "code",
   "execution_count": 93,
   "id": "6025ee27-9256-42b0-904c-09a4ea017ee3",
   "metadata": {},
   "outputs": [
    {
     "name": "stdout",
     "output_type": "stream",
     "text": [
      "[[10. 10. 10. 10. 10.]\n",
      " [10. 10. 10. 10. 10.]\n",
      " [10. 10. 10. 10. 10.]]\n",
      "\n",
      "[[5. 5. 5.]\n",
      " [5. 5. 5.]\n",
      " [5. 5. 5.]]\n",
      "\n",
      "[[5. 5. 5.]\n",
      " [5. 5. 5.]\n",
      " [5. 5. 5.]]\n"
     ]
    }
   ],
   "source": [
    "a = np.ones(15).reshape(3, 5)\n",
    "b = np.ones(15).reshape(5, 3)\n",
    "mult = a * 10 # element-wise multiplication\n",
    "dot_prod1 = a.dot(b) # dot product version 1\n",
    "dot_prod2 = np.dot(a, b) # dot product version 2\n",
    "print(mult, end='\\n\\n')\n",
    "print(dot_prod1, end='\\n\\n')\n",
    "print(dot_prod2)"
   ]
  },
  {
   "cell_type": "code",
   "execution_count": 94,
   "id": "0872b1af-fe78-49a1-925d-10952a1074a2",
   "metadata": {},
   "outputs": [
    {
     "data": {
      "text/plain": [
       "array([[10., 10., 10.],\n",
       "       [10., 10., 10.],\n",
       "       [10., 10., 10.]])"
      ]
     },
     "execution_count": 94,
     "metadata": {},
     "output_type": "execute_result"
    }
   ],
   "source": [
    "a, b = dot_prod1, dot_prod2\n",
    "a += b # += and *= act in place -- they modify the existing array\n",
    "a"
   ]
  },
  {
   "cell_type": "code",
   "execution_count": 95,
   "id": "893176f3-b55a-4ead-8131-db1370abab83",
   "metadata": {},
   "outputs": [
    {
     "name": "stdout",
     "output_type": "stream",
     "text": [
      "float64\n",
      "complex128\n"
     ]
    }
   ],
   "source": [
    "# array operations result in upcasting (result is more general type)\n",
    "a = np.ones(10, dtype=int)\n",
    "b = np.ones(10, dtype=float)\n",
    "c = np.ones(10, dtype=complex)\n",
    "a_plus_b = a + b # int + float\n",
    "b_plus_c = b + c # float + complex\n",
    "print(a_plus_b.dtype.name)\n",
    "print(b_plus_c.dtype.name)"
   ]
  },
  {
   "cell_type": "code",
   "execution_count": 96,
   "id": "a903aaf0-0b30-4669-b534-0320c662471a",
   "metadata": {},
   "outputs": [
    {
     "name": "stdout",
     "output_type": "stream",
     "text": [
      "Sum: 55\n",
      "Min: 1\n",
      "Max: 10\n"
     ]
    }
   ],
   "source": [
    "# useful array methods\n",
    "a = np.arange(1, 11)\n",
    "print('Sum:', a.sum())\n",
    "print('Min:', a.min())\n",
    "print('Max:', a.max())"
   ]
  },
  {
   "cell_type": "code",
   "execution_count": 97,
   "id": "7225d876-e3a0-4863-9fc3-010c8fa920fd",
   "metadata": {},
   "outputs": [
    {
     "name": "stdout",
     "output_type": "stream",
     "text": [
      "[18 21 24 27 30]\n",
      "[ 1  6 11]\n"
     ]
    },
    {
     "data": {
      "text/plain": [
       "array([[ 1,  2,  3,  4,  5],\n",
       "       [ 6,  7,  8,  9, 10],\n",
       "       [11, 12, 13, 14, 15]])"
      ]
     },
     "execution_count": 97,
     "metadata": {},
     "output_type": "execute_result"
    }
   ],
   "source": [
    "# applying methods to a single axis\n",
    "a = np.arange(15).reshape(3, 5) + 1\n",
    "print(a.sum(axis=0)) # sum each column\n",
    "print(a.min(axis=1)) # min of each row\n",
    "a"
   ]
  },
  {
   "cell_type": "markdown",
   "id": "e45a50ae-97e5-451e-baca-0015be7b1ba0",
   "metadata": {},
   "source": [
    "# Universal functions"
   ]
  },
  {
   "cell_type": "code",
   "execution_count": 98,
   "id": "5463f14e-f3f3-48e4-b74c-f8177e3cb415",
   "metadata": {},
   "outputs": [
    {
     "name": "stdout",
     "output_type": "stream",
     "text": [
      "[ 0.00000000e+00  6.28381328e-04  1.25676241e-03 ... -1.25676241e-03\n",
      " -6.28381328e-04 -2.44929360e-16]\n",
      "\n",
      "[0.         0.02506754 0.03545085 ... 2.50637757 2.50650293 2.50662827]\n",
      "\n"
     ]
    }
   ],
   "source": [
    "# universal functions (sin, cos, exp, sqrt, ... etc)\n",
    "a = np.linspace(0, 2*pi, 10000)\n",
    "sin_a = np.sin(a)\n",
    "sqrt_a = np.sqrt(a)\n",
    "exp_a = np.exp(a)\n",
    "print(sin_a, end='\\n\\n')\n",
    "print(sqrt_a, end='\\n\\n')"
   ]
  },
  {
   "cell_type": "markdown",
   "id": "6a92ab97-589c-4abe-913e-c0cac0a2e3bf",
   "metadata": {},
   "source": [
    "# Indexing, slicing, and iterating\n"
   ]
  },
  {
   "cell_type": "code",
   "execution_count": 99,
   "id": "7a2c2a14-65f0-452d-9d0b-bcbaf5142863",
   "metadata": {},
   "outputs": [
    {
     "name": "stdout",
     "output_type": "stream",
     "text": [
      "[[   1    8   27]\n",
      " [  64  125  216]\n",
      " [ 343  512  729]\n",
      " [1000 1331 1728]]\n",
      "\n",
      "First Column:\t [   1   64  343 1000]\n",
      "Last Column:\t [  27  216  729 1728]\n",
      "First Row:\t [ 1  8 27]\n"
     ]
    }
   ],
   "source": [
    "# slicing NumPy arrays\n",
    "cubes = np.arange(1, 13).reshape(4, 3)**3 # cubes of 1-12\n",
    "print(cubes[:,:], end='\\n\\n') # all rows, all cols\n",
    "print('First Column:\\t', cubes[:, 0]) # first col\n",
    "print('Last Column:\\t', cubes[:, -1]) # last col\n",
    "print('First Row:\\t', cubes[0, :]) # first row"
   ]
  },
  {
   "cell_type": "code",
   "execution_count": 100,
   "id": "3ea83902-3f87-4d79-bdd5-0f383596f1a5",
   "metadata": {},
   "outputs": [
    {
     "data": {
      "text/plain": [
       "array([ 1,  2,  3,  4,  5,  6,  7,  8,  9, 10])"
      ]
     },
     "execution_count": 100,
     "metadata": {},
     "output_type": "execute_result"
    }
   ],
   "source": [
    "# iterating through array elements\n",
    "A = np.array([x+1 for x in range(10)])\n",
    "A"
   ]
  },
  {
   "cell_type": "code",
   "execution_count": 102,
   "id": "990363d3-0a37-4c79-ae12-dcab0dcd3241",
   "metadata": {},
   "outputs": [
    {
     "name": "stdout",
     "output_type": "stream",
     "text": [
      "1,2,3,4,5,6,7,8,9,10,"
     ]
    }
   ],
   "source": [
    "for a in A:\n",
    "    print(a, end=',')"
   ]
  },
  {
   "cell_type": "code",
   "execution_count": 104,
   "id": "d3476ddf-c101-4ad6-a6a0-c523346463a5",
   "metadata": {},
   "outputs": [
    {
     "name": "stdout",
     "output_type": "stream",
     "text": [
      "1,4,9,16,25,"
     ]
    }
   ],
   "source": [
    "A = A.reshape(2, 5)\n",
    "for a in A[0,:]: # for element in row 1\n",
    "    print(a**2, end=',')"
   ]
  },
  {
   "cell_type": "code",
   "execution_count": 105,
   "id": "348b2096-9809-4ef9-a506-d54d6baa552a",
   "metadata": {},
   "outputs": [
    {
     "name": "stdout",
     "output_type": "stream",
     "text": [
      "A[0, ...] == A[0, :, :]\n",
      "\n",
      "[[ 1  2  3  4  5]\n",
      " [ 6  7  8  9 10]\n",
      " [11 12 13 14 15]\n",
      " [16 17 18 19 20]\n",
      " [21 22 23 24 25]] \n",
      "\n",
      " [[ 1  2  3  4  5]\n",
      " [ 6  7  8  9 10]\n",
      " [11 12 13 14 15]\n",
      " [16 17 18 19 20]\n",
      " [21 22 23 24 25]]\n"
     ]
    }
   ],
   "source": [
    "# Advanced: using ... for axis completion\n",
    "A = np.arange(125).reshape(5, 5, 5) + 1\n",
    "print('A[0, ...] == A[0, :, :]', end='\\n\\n')\n",
    "print(A[0, ...], '\\n\\n', A[0, :, :])"
   ]
  },
  {
   "cell_type": "code",
   "execution_count": 107,
   "id": "4f87da44-84d6-4481-a3f7-062b481375a5",
   "metadata": {},
   "outputs": [
    {
     "name": "stdout",
     "output_type": "stream",
     "text": [
      "1,2,3,4,5,6,7,8,9,10,11,12,13,14,15,16,17,18,19,20,21,22,23,24,25,26,27,28,29,30,31,32,33,34,35,36,37,38,39,40,41,42,43,44,45,46,47,48,49,50,51,52,53,54,55,56,57,58,59,60,61,62,63,64,65,66,67,68,69,70,71,72,73,74,75,76,77,78,79,80,81,82,83,84,85,86,87,88,89,90,91,92,93,94,95,96,97,98,99,100,101,102,103,104,105,106,107,108,109,110,111,112,113,114,115,116,117,118,119,120,121,122,123,124,125,"
     ]
    }
   ],
   "source": [
    "# flattening a 5x5x5 array for iteration\n",
    "for a in A.flat:\n",
    "    print(a, end=',')"
   ]
  },
  {
   "cell_type": "markdown",
   "id": "ae026485-75d1-4a7c-8108-464175440d1a",
   "metadata": {},
   "source": [
    "# Shape manipulation"
   ]
  },
  {
   "cell_type": "markdown",
   "id": "830a5bfe-112c-4925-b71d-74adcb92761d",
   "metadata": {},
   "source": [
    "## Changing the shape of an array "
   ]
  },
  {
   "cell_type": "code",
   "execution_count": 108,
   "id": "9ef41b0a-5e16-4698-aca5-3fb9b667c89c",
   "metadata": {},
   "outputs": [
    {
     "name": "stdout",
     "output_type": "stream",
     "text": [
      "[[6. 5. 1. 9.]\n",
      " [4. 4. 6. 1.]\n",
      " [8. 4. 4. 6.]]\n",
      "(3, 4)\n"
     ]
    }
   ],
   "source": [
    "a = np.floor(10*np.random.random((3, 4)))\n",
    "print(a)\n",
    "print(a.shape)"
   ]
  },
  {
   "cell_type": "code",
   "execution_count": 109,
   "id": "b08116e6-bef4-4f90-92a2-21ea40a6cbdc",
   "metadata": {},
   "outputs": [
    {
     "data": {
      "text/plain": [
       "array([6., 5., 1., 9., 4., 4., 6., 1., 8., 4., 4., 6.])"
      ]
     },
     "execution_count": 109,
     "metadata": {},
     "output_type": "execute_result"
    }
   ],
   "source": [
    "a.ravel() # returns a COPY of the array flattened"
   ]
  },
  {
   "cell_type": "code",
   "execution_count": 110,
   "id": "d0614865-ca48-4c8e-9ffe-d9d6437d28ce",
   "metadata": {},
   "outputs": [
    {
     "data": {
      "text/plain": [
       "array([[6., 5.],\n",
       "       [1., 9.],\n",
       "       [4., 4.],\n",
       "       [6., 1.],\n",
       "       [8., 4.],\n",
       "       [4., 6.]])"
      ]
     },
     "execution_count": 110,
     "metadata": {},
     "output_type": "execute_result"
    }
   ],
   "source": [
    "a.reshape(6, 2) # returns a COPY of the array reshaped"
   ]
  },
  {
   "cell_type": "code",
   "execution_count": 111,
   "id": "3df5963f-d5b2-4f29-9180-19da75a5234a",
   "metadata": {},
   "outputs": [
    {
     "data": {
      "text/plain": [
       "array([[6., 4., 8.],\n",
       "       [5., 4., 4.],\n",
       "       [1., 6., 4.],\n",
       "       [9., 1., 6.]])"
      ]
     },
     "execution_count": 111,
     "metadata": {},
     "output_type": "execute_result"
    }
   ],
   "source": [
    "a.T # returns a COPY of the array, transposed"
   ]
  },
  {
   "cell_type": "code",
   "execution_count": 112,
   "id": "cccd8f83-79f7-40b8-8715-86ca760da067",
   "metadata": {},
   "outputs": [
    {
     "name": "stdout",
     "output_type": "stream",
     "text": [
      "A:\t (3, 4)\n",
      "A^T:\t (4, 3)\n"
     ]
    }
   ],
   "source": [
    "print('A:\\t', a.shape)\n",
    "print('A^T:\\t', a.T.shape)"
   ]
  },
  {
   "cell_type": "code",
   "execution_count": 114,
   "id": "fcb0a181-9f61-4f0d-8bcb-404e6c0370cb",
   "metadata": {},
   "outputs": [
    {
     "name": "stdout",
     "output_type": "stream",
     "text": [
      "[[0. 5. 8. 2.]\n",
      " [9. 2. 9. 5.]\n",
      " [1. 5. 7. 3.]] array A remains unchanged\n",
      "[[0. 5. 8.]\n",
      " [2. 9. 2.]\n",
      " [9. 5. 1.]\n",
      " [5. 7. 3.]] array A is of a new shape\n"
     ]
    }
   ],
   "source": [
    "A = np.floor(10*np.random.random((3, 4)))\n",
    "A.reshape(4, 3) # reshape returns a COPY of A\n",
    "print(A, 'array A remains unchanged')\n",
    "A.resize(4, 3) # resize modifies array A\n",
    "print(A, 'array A is of a new shape')\n"
   ]
  },
  {
   "cell_type": "markdown",
   "id": "ed4446c7-10a8-471d-a977-76e3f91eb009",
   "metadata": {},
   "source": [
    "## Stacking NumPy arrays horizontally and vertically"
   ]
  },
  {
   "cell_type": "code",
   "execution_count": 115,
   "id": "ef34a370-4ef6-4778-8c0a-e0bcfb9f243f",
   "metadata": {},
   "outputs": [
    {
     "name": "stdout",
     "output_type": "stream",
     "text": [
      "a:\n",
      " [[0 0 0]\n",
      " [0 0 0]\n",
      " [0 0 0]]\n",
      "b:\n",
      " [[1 1 1]\n",
      " [1 1 1]\n",
      " [1 1 1]]\n",
      "Horizontal Stack:\n",
      " [[0 0 0 1 1 1]\n",
      " [0 0 0 1 1 1]\n",
      " [0 0 0 1 1 1]]\n",
      "Vertical Stack:\n",
      " [[0 0 0]\n",
      " [0 0 0]\n",
      " [0 0 0]\n",
      " [1 1 1]\n",
      " [1 1 1]\n",
      " [1 1 1]]\n"
     ]
    }
   ],
   "source": [
    "a = np.zeros(9, dtype=int).reshape(3, 3)\n",
    "b = np.ones(9, dtype=int).reshape(3, 3)\n",
    "# stack horizontally:\n",
    "hor = np.hstack((a, b))\n",
    "ver = np.vstack((a, b))\n",
    "print('a:\\n', a)\n",
    "print('b:\\n', b)\n",
    "print('Horizontal Stack:\\n', hor)\n",
    "print('Vertical Stack:\\n', ver)"
   ]
  },
  {
   "cell_type": "code",
   "execution_count": 116,
   "id": "d60e1bf1-c8ef-453c-a95c-735c5badfc79",
   "metadata": {},
   "outputs": [
    {
     "name": "stdout",
     "output_type": "stream",
     "text": [
      "Horizontal Stack:\n",
      " [[0 0 0 1 1 1]\n",
      " [0 0 0 1 1 1]\n",
      " [0 0 0 1 1 1]]\n",
      "Vertical Stack:\n",
      " [[0 0 0]\n",
      " [0 0 0]\n",
      " [0 0 0]\n",
      " [1 1 1]\n",
      " [1 1 1]\n",
      " [1 1 1]]\n",
      "Column Stack:\n",
      " [[0 0 0 1 1 1]\n",
      " [0 0 0 1 1 1]\n",
      " [0 0 0 1 1 1]]\n",
      "Row Stack:\n",
      " [[0 0 0]\n",
      " [0 0 0]\n",
      " [0 0 0]\n",
      " [1 1 1]\n",
      " [1 1 1]\n",
      " [1 1 1]]\n"
     ]
    }
   ],
   "source": [
    "# similarly, row_stack and column_stack can be used to stack into 2D arrays\n",
    "r_stack = np.row_stack((a, b))\n",
    "c_stack = np.column_stack((a, b))\n",
    "print('Horizontal Stack:\\n', hor)\n",
    "print('Vertical Stack:\\n', ver)\n",
    "print('Column Stack:\\n', c_stack)\n",
    "print('Row Stack:\\n', r_stack)"
   ]
  },
  {
   "cell_type": "code",
   "execution_count": 117,
   "id": "e670ecae-8184-4bf8-a897-f8af5e46c174",
   "metadata": {},
   "outputs": [
    {
     "data": {
      "text/plain": [
       "array([ 1,  2,  3,  4,  5,  6,  7,  8,  9, 10])"
      ]
     },
     "execution_count": 117,
     "metadata": {},
     "output_type": "execute_result"
    }
   ],
   "source": [
    "# use range literals to concatenate arrays on the fly\n",
    "np.r_[1:5, 5, 6:10, 10]"
   ]
  },
  {
   "cell_type": "code",
   "execution_count": 118,
   "id": "94868da2-91c5-4783-b2e9-91549562f785",
   "metadata": {},
   "outputs": [
    {
     "data": {
      "text/plain": [
       "array([[1],\n",
       "       [2],\n",
       "       [3],\n",
       "       [4]])"
      ]
     },
     "execution_count": 118,
     "metadata": {},
     "output_type": "execute_result"
    }
   ],
   "source": [
    "np.c_[1:5]"
   ]
  },
  {
   "cell_type": "markdown",
   "id": "f168cb8d-baa4-447b-818f-311d3a57cc1a",
   "metadata": {},
   "source": [
    "## Splitting large arrays into smaller ones"
   ]
  },
  {
   "cell_type": "code",
   "execution_count": 119,
   "id": "7d86abdf-050f-4aa4-a9e8-fac6cb860795",
   "metadata": {},
   "outputs": [
    {
     "name": "stdout",
     "output_type": "stream",
     "text": [
      "[[1. 1. 1.]\n",
      " [1. 1. 1.]\n",
      " [1. 1. 1.]]\n",
      "\n",
      "[[1.]\n",
      " [1.]\n",
      " [1.]]\n",
      "\n",
      "[[1.]\n",
      " [1.]\n",
      " [1.]]\n",
      "\n",
      "[[1.]\n",
      " [1.]\n",
      " [1.]]\n",
      "\n"
     ]
    }
   ],
   "source": [
    "# use hsplit or vsplit to split arrays\n",
    "a = np.ones(9).reshape(3, 3)\n",
    "a_1, a_2, a_3 = np.hsplit(a, 3) # split a into 3 arrays\n",
    "print(a, end='\\n\\n')\n",
    "print(a_1, end='\\n\\n')\n",
    "print(a_2, end='\\n\\n')\n",
    "print(a_3, end='\\n\\n')"
   ]
  },
  {
   "cell_type": "markdown",
   "id": "3cd31c54-5e1c-47eb-b79c-de1a8b7c1d29",
   "metadata": {},
   "source": [
    "# Views and copies"
   ]
  },
  {
   "cell_type": "markdown",
   "id": "8c23f091-29e2-4e07-99cd-b92c9b5e78a1",
   "metadata": {},
   "source": [
    "## No copy at all"
   ]
  },
  {
   "cell_type": "code",
   "execution_count": 121,
   "id": "dca22c44-8645-492c-a90d-632bfc0c916b",
   "metadata": {},
   "outputs": [
    {
     "data": {
      "text/plain": [
       "True"
      ]
     },
     "execution_count": 121,
     "metadata": {},
     "output_type": "execute_result"
    }
   ],
   "source": [
    "a = np.arange(15).reshape(5, 3)\n",
    "b = a\n",
    "a is b"
   ]
  },
  {
   "cell_type": "markdown",
   "id": "d8de02d8-d015-4637-9dbd-9aa65813f461",
   "metadata": {},
   "source": [
    "## View or shallow copy"
   ]
  },
  {
   "cell_type": "code",
   "execution_count": 123,
   "id": "561036f1-d9bb-44ed-a94d-f33c91ae2441",
   "metadata": {},
   "outputs": [
    {
     "name": "stdout",
     "output_type": "stream",
     "text": [
      "a is b: False\n",
      "a is b.base: True\n",
      "(6,) : no change to a's shape\n",
      "[   0 1000    4    9   16   25] a's data has changed!\n"
     ]
    }
   ],
   "source": [
    "# use the view() method to create a shallow copy of an array\n",
    "a = np.array([x**2 for x in range(6)])\n",
    "b = a.view()\n",
    "print('a is b:', a is b)\n",
    "print('a is b.base:', a is b.base)\n",
    "b.shape = 3, 2\n",
    "print(a.shape, ': no change to a\\'s shape') # a's shape doesn't change\n",
    "b[0, 1] = 1000\n",
    "print(a, 'a\\'s data has changed!')"
   ]
  },
  {
   "cell_type": "markdown",
   "id": "a385a5b1-a829-47b3-988b-f12c07f428c8",
   "metadata": {},
   "source": [
    "# Deep copy"
   ]
  },
  {
   "cell_type": "code",
   "execution_count": 124,
   "id": "c73fde9d-47a0-4621-b6e9-fd5e23e57de0",
   "metadata": {},
   "outputs": [
    {
     "name": "stdout",
     "output_type": "stream",
     "text": [
      "a: [ 1  2  3  4  5  6  7  8  9 10]\t(Original)\n",
      "\n",
      "b: [ 1  2  3  4  5  6  7  8  9 10]\t(Deep Copy)\n",
      "\n",
      "a is b: False\n"
     ]
    }
   ],
   "source": [
    "a = np.array([x+1 for x in range(10)])\n",
    "b = a.copy()\n",
    "print('a:', a, end='\\t(Original)\\n\\n')\n",
    "print('b:', b, end='\\t(Deep Copy)\\n\\n')\n",
    "print('a is b:', a is b)"
   ]
  },
  {
   "cell_type": "markdown",
   "id": "fddf481e-c949-44ee-83c9-6520b7b9ca4e",
   "metadata": {},
   "source": [
    "# Advanced NumPy\n",
    "- Fancy indexing and index tricks\n",
    "- Indexing with arrays of integers and booleans"
   ]
  },
  {
   "cell_type": "code",
   "execution_count": 125,
   "id": "72e4629d-c7c9-44f9-b30c-a10af29d2865",
   "metadata": {},
   "outputs": [
    {
     "name": "stdout",
     "output_type": "stream",
     "text": [
      "Indexing with array of Ints:\t [ 0  4 16 36 64]\n",
      "Indexing with array of Bools:\t [ 1  9 25 49 81]\n"
     ]
    }
   ],
   "source": [
    "# arrays can be indexed by arrays of integers and arrays of booleans\n",
    "squares = np.array([(x)**2 for x in range(10)])\n",
    "evens = np.array([x for x in range(10) if x%2 == 0])\n",
    "odds = np.array([False if x%2 == 0 else True for x in range(10)])\n",
    "squares_of_evens = squares[evens]\n",
    "squares_of_odds = squares[odds]\n",
    "print('Indexing with array of Ints:\\t', squares_of_evens)\n",
    "print('Indexing with array of Bools:\\t', squares_of_odds)"
   ]
  },
  {
   "cell_type": "markdown",
   "id": "bba70f0a-1815-4aec-b094-d8a65da129f4",
   "metadata": {},
   "source": [
    "# The ix_() function"
   ]
  },
  {
   "cell_type": "code",
   "execution_count": 127,
   "id": "89c57441-0048-457d-938a-134d8eaa7bf1",
   "metadata": {},
   "outputs": [
    {
     "name": "stdout",
     "output_type": "stream",
     "text": [
      "[[[29 33 37]\n",
      "  [36 41 46]\n",
      "  [43 49 55]]\n",
      "\n",
      " [[30 34 38]\n",
      "  [37 42 47]\n",
      "  [44 50 56]]\n",
      "\n",
      " [[31 35 39]\n",
      "  [38 43 48]\n",
      "  [45 51 57]]]\n"
     ]
    }
   ],
   "source": [
    "# use ix_() to compute all a + b*c pairs for matrices a, b, and c\n",
    "a = np.array([1, 2, 3])\n",
    "b = np.array([4, 5, 6])\n",
    "c = np.array([7, 8, 9])\n",
    "ax, bx, cx = np.ix_(a, b, c)\n",
    "f = ax + bx*cx\n",
    "if f[2, 1, 0] == a[2]+b[1]*c[0]:\n",
    "    print(f)"
   ]
  },
  {
   "cell_type": "code",
   "execution_count": null,
   "id": "bc0930b2-c1e3-489f-aec2-017cb5a8a3e3",
   "metadata": {},
   "outputs": [],
   "source": []
  }
 ],
 "metadata": {
  "kernelspec": {
   "display_name": "Python 3 (ipykernel)",
   "language": "python",
   "name": "python3"
  },
  "language_info": {
   "codemirror_mode": {
    "name": "ipython",
    "version": 3
   },
   "file_extension": ".py",
   "mimetype": "text/x-python",
   "name": "python",
   "nbconvert_exporter": "python",
   "pygments_lexer": "ipython3",
   "version": "3.11.7"
  }
 },
 "nbformat": 4,
 "nbformat_minor": 5
}
